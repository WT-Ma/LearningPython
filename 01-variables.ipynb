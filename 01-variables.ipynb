{
 "cells": [
  {
   "cell_type": "markdown",
   "id": "96dcbe6d-18cb-4275-821e-ba4441101fee",
   "metadata": {},
   "source": [
    "# Variables\n",
    "\n",
    "This is the first notebook of this course\n",
    "we **are** learning ~~matlab~~ *python* using _jupyer_ notebooks"
   ]
  },
  {
   "cell_type": "code",
   "execution_count": 1,
   "id": "5dbd98b9-fdef-4140-9a51-0c6f3298f8a7",
   "metadata": {},
   "outputs": [],
   "source": [
    "weight_kg = 55"
   ]
  },
  {
   "cell_type": "code",
   "execution_count": 2,
   "id": "f52a2f59-4322-4d4c-8283-9d6f645c002c",
   "metadata": {},
   "outputs": [
    {
     "name": "stdout",
     "output_type": "stream",
     "text": [
      "55\n"
     ]
    }
   ],
   "source": [
    "print(weight_kg)"
   ]
  },
  {
   "cell_type": "code",
   "execution_count": 3,
   "id": "633031ad-7c86-4345-b8ac-438b8ad8c30f",
   "metadata": {},
   "outputs": [
    {
     "name": "stdout",
     "output_type": "stream",
     "text": [
      "weight in pounds 121.00000000000001\n"
     ]
    }
   ],
   "source": [
    "print(\"weight in pounds\", 2.2 * weight_kg)"
   ]
  },
  {
   "cell_type": "code",
   "execution_count": 4,
   "id": "32dcff22-92eb-4cef-8b38-acdf3bd373b8",
   "metadata": {},
   "outputs": [
    {
     "name": "stdout",
     "output_type": "stream",
     "text": [
      "weight in kg: 55 and in lb: 121.00000000000001\n"
     ]
    }
   ],
   "source": [
    "weight_lb = 2.2 * weight_kg\n",
    "print(\"weight in kg:\", weight_kg, \"and in lb:\", weight_lb)"
   ]
  },
  {
   "cell_type": "code",
   "execution_count": 6,
   "id": "25aae796-a044-490f-ba99-e21ef61c7ba8",
   "metadata": {},
   "outputs": [
    {
     "name": "stdout",
     "output_type": "stream",
     "text": [
      "weight in kg is now 55 and weight in lb is now 121.00000000000001\n"
     ]
    }
   ],
   "source": [
    "ight_kg = 100\n",
    "print(\"weight in kg is now\", weight_kg, \"and weight in lb is now\", weight_lb)"
   ]
  },
  {
   "cell_type": "code",
   "execution_count": null,
   "id": "03039649-9b06-4f20-b593-5e15f4f4720c",
   "metadata": {},
   "outputs": [],
   "source": []
  }
 ],
 "metadata": {
  "kernelspec": {
   "display_name": "Python 3 (ipykernel)",
   "language": "python",
   "name": "python3"
  },
  "language_info": {
   "codemirror_mode": {
    "name": "ipython",
    "version": 3
   },
   "file_extension": ".py",
   "mimetype": "text/x-python",
   "name": "python",
   "nbconvert_exporter": "python",
   "pygments_lexer": "ipython3",
   "version": "3.9.12"
  }
 },
 "nbformat": 4,
 "nbformat_minor": 5
}
