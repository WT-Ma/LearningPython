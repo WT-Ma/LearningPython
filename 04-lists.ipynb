{
 "cells": [
  {
   "cell_type": "code",
   "execution_count": 1,
   "id": "430f45e9-4500-4e71-be4b-caa89bb96d1e",
   "metadata": {},
   "outputs": [
    {
     "name": "stdout",
     "output_type": "stream",
     "text": [
      "[1, 3, 5, 7]\n"
     ]
    }
   ],
   "source": [
    "odds = [1, 3, 5, 7]\n",
    "print(odds)"
   ]
  },
  {
   "cell_type": "code",
   "execution_count": 2,
   "id": "23e96af5-fdf9-4c80-9fd7-93cd3c1f9182",
   "metadata": {},
   "outputs": [
    {
     "name": "stdout",
     "output_type": "stream",
     "text": [
      "first element in the list 1\n"
     ]
    }
   ],
   "source": [
    "print(\"first element in the list\", odds[0])"
   ]
  },
  {
   "cell_type": "code",
   "execution_count": 3,
   "id": "9bd67e25-a059-459a-88da-c37603bc16a3",
   "metadata": {},
   "outputs": [
    {
     "name": "stdout",
     "output_type": "stream",
     "text": [
      "last element in the list 7\n"
     ]
    }
   ],
   "source": [
    "print(\"last element in the list\", odds[-1])"
   ]
  },
  {
   "cell_type": "code",
   "execution_count": 4,
   "id": "d260df50-34fe-4cc3-ad56-7b96a6fff21a",
   "metadata": {},
   "outputs": [
    {
     "name": "stdout",
     "output_type": "stream",
     "text": [
      "every second-element in the list [1, 5]\n"
     ]
    }
   ],
   "source": [
    "print(\"every second-element in the list\", odds[0::2])"
   ]
  },
  {
   "cell_type": "code",
   "execution_count": 5,
   "id": "6e533d58-4ec7-44e4-9ef1-b8ba6c49c224",
   "metadata": {},
   "outputs": [
    {
     "name": "stdout",
     "output_type": "stream",
     "text": [
      "names is originally: ['Curie', 'Darwing', 'Turing']\n",
      "Final values of names ['Curie', 'Darwin', 'Turing']\n"
     ]
    }
   ],
   "source": [
    "names = ['Curie', 'Darwing', 'Turing']\n",
    "print(\"names is originally:\", names)\n",
    "names[1] = 'Darwin'\n",
    "print(\"Final values of names\", names)"
   ]
  },
  {
   "cell_type": "code",
   "execution_count": 6,
   "id": "de668dda-35e9-4d1f-ad6f-291790747a89",
   "metadata": {},
   "outputs": [
    {
     "name": "stdout",
     "output_type": "stream",
     "text": [
      "first character in the name D\n"
     ]
    }
   ],
   "source": [
    "name = 'Darwin'\n",
    "print(\"first character in the name\", name[0])"
   ]
  },
  {
   "cell_type": "code",
   "execution_count": 7,
   "id": "7b268e3b-100d-40c5-98d5-53027efcd14f",
   "metadata": {},
   "outputs": [],
   "source": [
    "x = [['pepper', 'coutgette', 'onion'], ['cabbage', 'lettuce', 'garlic'], ['apple', 'pear', 'banana']]"
   ]
  },
  {
   "cell_type": "code",
   "execution_count": 8,
   "id": "7b58a9f4-096f-4e69-9396-2ef62d2ed3d7",
   "metadata": {},
   "outputs": [
    {
     "name": "stdout",
     "output_type": "stream",
     "text": [
      "['pepper', 'coutgette', 'onion']\n"
     ]
    }
   ],
   "source": [
    "print(x[0])"
   ]
  },
  {
   "cell_type": "code",
   "execution_count": 9,
   "id": "bcf3c206-de86-43f7-af01-3f18acdde89a",
   "metadata": {},
   "outputs": [
    {
     "name": "stdout",
     "output_type": "stream",
     "text": [
      "coutgette\n"
     ]
    }
   ],
   "source": [
    "print(x[0][1])"
   ]
  },
  {
   "cell_type": "code",
   "execution_count": 10,
   "id": "80a1c993-e373-40e0-9529-4826829518f9",
   "metadata": {},
   "outputs": [],
   "source": [
    "string_for_slicing = 'Observation date: 02-Feb-2013'"
   ]
  },
  {
   "cell_type": "code",
   "execution_count": 13,
   "id": "05d7d9d4-c072-43ba-8079-99e5b00d6dae",
   "metadata": {},
   "outputs": [
    {
     "data": {
      "text/plain": [
       "'2013'"
      ]
     },
     "execution_count": 13,
     "metadata": {},
     "output_type": "execute_result"
    }
   ],
   "source": [
    "string_for_slicing[-4:]"
   ]
  },
  {
   "cell_type": "code",
   "execution_count": 14,
   "id": "ab2c21bf-1379-4004-978e-f2b2ca36ceda",
   "metadata": {},
   "outputs": [],
   "source": [
    "beatles = \"In an octopus's garden in the shade\""
   ]
  },
  {
   "cell_type": "code",
   "execution_count": 16,
   "id": "d63f8cec-391f-409f-bb50-d9105f240b9e",
   "metadata": {},
   "outputs": [
    {
     "data": {
      "text/plain": [
       "'I notpssgre ntesae'"
      ]
     },
     "execution_count": 16,
     "metadata": {},
     "output_type": "execute_result"
    }
   ],
   "source": [
    "beatles[::2]"
   ]
  },
  {
   "cell_type": "code",
   "execution_count": 17,
   "id": "81c485e3-ef4f-4f7d-aadb-eb87338e690c",
   "metadata": {},
   "outputs": [
    {
     "name": "stdout",
     "output_type": "stream",
     "text": [
      "[2, 4, 6, 8, 10, 2, 4, 6, 8, 10]\n"
     ]
    }
   ],
   "source": [
    "counts = [2, 4, 6, 8, 10]\n",
    "print(counts * 2)"
   ]
  }
 ],
 "metadata": {
  "kernelspec": {
   "display_name": "Python 3 (ipykernel)",
   "language": "python",
   "name": "python3"
  },
  "language_info": {
   "codemirror_mode": {
    "name": "ipython",
    "version": 3
   },
   "file_extension": ".py",
   "mimetype": "text/x-python",
   "name": "python",
   "nbconvert_exporter": "python",
   "pygments_lexer": "ipython3",
   "version": "3.9.12"
  }
 },
 "nbformat": 4,
 "nbformat_minor": 5
}
